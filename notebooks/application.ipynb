{
 "cells": [
  {
   "cell_type": "code",
   "execution_count": 6,
   "metadata": {},
   "outputs": [],
   "source": [
    "import sys\n",
    "sys.path.append(r'C:\\Jérémie\\Fac_Ensae\\Mathématiques ENSAE\\Statistiques\\Statistiques bayésiennes\\bayesian_shrinkage')"
   ]
  },
  {
   "cell_type": "code",
   "execution_count": 7,
   "metadata": {},
   "outputs": [],
   "source": [
    "import numpy as np\n",
    "import pandas as pd\n",
    "\n",
    "from src.model import GLSP_count, GLSP_count_reg"
   ]
  },
  {
   "cell_type": "code",
   "execution_count": null,
   "metadata": {},
   "outputs": [],
   "source": [
    "%load_ext autoreload\n",
    "%autoreload 2"
   ]
  },
  {
   "cell_type": "code",
   "execution_count": 8,
   "metadata": {},
   "outputs": [],
   "source": [
    "df = pd.read_csv('../data/countdeath2020.csv')"
   ]
  },
  {
   "cell_type": "code",
   "execution_count": 9,
   "metadata": {},
   "outputs": [],
   "source": [
    "df.rename(columns={'Unnamed: 0':\"Index\"}, inplace=True)"
   ]
  },
  {
   "cell_type": "code",
   "execution_count": 10,
   "metadata": {},
   "outputs": [],
   "source": [
    "df = df.drop([96,97,98,99,100]).set_index('Index')"
   ]
  },
  {
   "cell_type": "code",
   "execution_count": 11,
   "metadata": {},
   "outputs": [],
   "source": [
    "df[\"Total\"] = df.sum(axis=1)"
   ]
  },
  {
   "cell_type": "code",
   "execution_count": 12,
   "metadata": {},
   "outputs": [],
   "source": [
    "results = GLSP_count(df[\"Total\"].values)"
   ]
  },
  {
   "cell_type": "code",
   "execution_count": 21,
   "metadata": {},
   "outputs": [
    {
     "data": {
      "text/plain": [
       "array([0.16236582, 0.16611059, 0.16232363, 0.15036045, 0.15146578,\n",
       "       0.18993871, 0.15895593, 0.15451772, 0.1505982 , 0.15663278,\n",
       "       0.1598037 , 0.15701102, 0.21806498, 0.17271937, 0.15116437,\n",
       "       0.15932527, 0.17351413, 0.15858596, 0.15612965, 0.16717103,\n",
       "       0.17035212, 0.15084751, 0.1624343 , 0.16254144, 0.16324593,\n",
       "       0.16350162, 0.16016394, 0.18314546, 0.14994829, 0.15013236,\n",
       "       0.17241439, 0.18406485, 0.15248823, 0.19774489, 0.18750561,\n",
       "       0.17822229, 0.15568659, 0.16745044, 0.18404388, 0.15414946,\n",
       "       0.16011159, 0.1587208 , 0.17813175, 0.15336252, 0.18937422,\n",
       "       0.16780033, 0.15260423, 0.1594902 , 0.14828752, 0.17235925,\n",
       "       0.16472209, 0.16699608, 0.15203303, 0.15590256, 0.17283158,\n",
       "       0.15258172, 0.17544934, 0.18562579, 0.15481234, 0.22997794,\n",
       "       0.17010824, 0.15630898, 0.19758294, 0.17102523, 0.17331658,\n",
       "       0.15550675, 0.166259  , 0.18350083, 0.1749105 , 0.20327903,\n",
       "       0.15336599, 0.1703709 , 0.16592699, 0.16161659, 0.17094198,\n",
       "       0.21163559, 0.19318868, 0.18145005, 0.1804547 , 0.1583763 ,\n",
       "       0.16978648, 0.15979713, 0.15360155, 0.18731229, 0.16733854,\n",
       "       0.16970339, 0.16257032, 0.16147534, 0.16155638, 0.16066985,\n",
       "       0.15309967, 0.1773461 , 0.18853381, 0.17844232, 0.1857365 ,\n",
       "       0.17696755])"
      ]
     },
     "execution_count": 21,
     "metadata": {},
     "output_type": "execute_result"
    }
   ],
   "source": [
    "results[0].max()"
   ]
  },
  {
   "cell_type": "code",
   "execution_count": 22,
   "metadata": {},
   "outputs": [
    {
     "data": {
      "text/plain": [
       "(3000, 96)"
      ]
     },
     "execution_count": 22,
     "metadata": {},
     "output_type": "execute_result"
    }
   ],
   "source": [
    "results[0].shape"
   ]
  },
  {
   "cell_type": "code",
   "execution_count": null,
   "metadata": {},
   "outputs": [],
   "source": []
  }
 ],
 "metadata": {
  "kernelspec": {
   "display_name": "Python 3",
   "language": "python",
   "name": "python3"
  },
  "language_info": {
   "codemirror_mode": {
    "name": "ipython",
    "version": 3
   },
   "file_extension": ".py",
   "mimetype": "text/x-python",
   "name": "python",
   "nbconvert_exporter": "python",
   "pygments_lexer": "ipython3",
   "version": "3.9.13"
  },
  "orig_nbformat": 4,
  "vscode": {
   "interpreter": {
    "hash": "8e284ee3255a07ad8bf76694974743c4c81cb57e7c969474d752d949b11d721e"
   }
  }
 },
 "nbformat": 4,
 "nbformat_minor": 2
}
