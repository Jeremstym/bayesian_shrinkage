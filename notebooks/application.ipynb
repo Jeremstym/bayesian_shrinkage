{
 "cells": [
  {
   "cell_type": "code",
   "execution_count": 45,
   "metadata": {},
   "outputs": [],
   "source": [
    "import sys\n",
    "sys.path.append(r'c:\\\\Users\\\\cesar\\\\OneDrive\\\\Documents\\\\adrien\\\\GitHub\\\\bayesian_shrinkage')"
   ]
  },
  {
   "cell_type": "code",
   "execution_count": 46,
   "metadata": {},
   "outputs": [],
   "source": [
    "import numpy as np\n",
    "import pandas as pd\n",
    "\n",
    "from src.model import GLSP_count, GLSP_count_reg"
   ]
  },
  {
   "cell_type": "code",
   "execution_count": 47,
   "metadata": {},
   "outputs": [
    {
     "name": "stdout",
     "output_type": "stream",
     "text": [
      "The autoreload extension is already loaded. To reload it, use:\n",
      "  %reload_ext autoreload\n"
     ]
    }
   ],
   "source": [
    "%load_ext autoreload\n",
    "%autoreload 2"
   ]
  },
  {
   "cell_type": "code",
   "execution_count": 48,
   "metadata": {},
   "outputs": [],
   "source": [
    "df = pd.read_csv('../data/DC_covid_preprocess.csv').set_index(\"dep\")\n",
    "df_covariables = pd.read_csv('../data/covariables.csv').sort_values(by = \"Departement\").set_index(\"Departement\")"
   ]
  },
  {
   "cell_type": "code",
   "execution_count": 23,
   "metadata": {},
   "outputs": [],
   "source": [
    "results = GLSP_count(df[\"Mort\"].values, prior = \"PG\")"
   ]
  },
  {
   "cell_type": "code",
   "execution_count": 60,
   "metadata": {},
   "outputs": [
    {
     "ename": "TypeError",
     "evalue": "rvs() got an unexpected keyword argument 'scale'",
     "output_type": "error",
     "traceback": [
      "\u001b[1;31m---------------------------------------------------------------------------\u001b[0m",
      "\u001b[1;31mTypeError\u001b[0m                                 Traceback (most recent call last)",
      "Cell \u001b[1;32mIn[60], line 2\u001b[0m\n\u001b[0;32m      1\u001b[0m PG_tirage \u001b[39m=\u001b[39m GLSP_count_reg(df[\u001b[39m\"\u001b[39m\u001b[39mMort\u001b[39m\u001b[39m\"\u001b[39m]\u001b[39m.\u001b[39mvalues, df_covariables\u001b[39m.\u001b[39mvalues, prior \u001b[39m=\u001b[39m \u001b[39m\"\u001b[39m\u001b[39mPG\u001b[39m\u001b[39m\"\u001b[39m, mc \u001b[39m=\u001b[39m \u001b[39m10000\u001b[39m, burn \u001b[39m=\u001b[39m \u001b[39m1500\u001b[39m)\n\u001b[1;32m----> 2\u001b[0m IG_tirage \u001b[39m=\u001b[39m GLSP_count_reg(df[\u001b[39m\"\u001b[39;49m\u001b[39mMort\u001b[39;49m\u001b[39m\"\u001b[39;49m]\u001b[39m.\u001b[39;49mvalues, df_covariables\u001b[39m.\u001b[39;49mvalues, prior \u001b[39m=\u001b[39;49m \u001b[39m\"\u001b[39;49m\u001b[39mIG\u001b[39;49m\u001b[39m\"\u001b[39;49m, mc \u001b[39m=\u001b[39;49m \u001b[39m10000\u001b[39;49m, burn \u001b[39m=\u001b[39;49m \u001b[39m1500\u001b[39;49m)\n\u001b[0;32m      3\u001b[0m EH_tirage \u001b[39m=\u001b[39m GLSP_count_reg(df[\u001b[39m\"\u001b[39m\u001b[39mMort\u001b[39m\u001b[39m\"\u001b[39m]\u001b[39m.\u001b[39mvalues, df_covariables\u001b[39m.\u001b[39mvalues, prior \u001b[39m=\u001b[39m \u001b[39m\"\u001b[39m\u001b[39mEH\u001b[39m\u001b[39m\"\u001b[39m, mc \u001b[39m=\u001b[39m \u001b[39m10000\u001b[39m, burn \u001b[39m=\u001b[39m \u001b[39m1500\u001b[39m)\n",
      "File \u001b[1;32mc:\\\\Users\\\\cesar\\\\OneDrive\\\\Documents\\\\adrien\\\\GitHub\\\\bayesian_shrinkage\\src\\model.py:181\u001b[0m, in \u001b[0;36mGLSP_count_reg\u001b[1;34m(Y, X, offset, prior, mc, burn, HP)\u001b[0m\n\u001b[0;32m    178\u001b[0m \u001b[39m## u and gam (IG prior)\u001b[39;00m\n\u001b[0;32m    179\u001b[0m \u001b[39mif\u001b[39;00m prior \u001b[39m==\u001b[39m \u001b[39m\"\u001b[39m\u001b[39mIG\u001b[39m\u001b[39m\"\u001b[39m:\n\u001b[0;32m    180\u001b[0m     \u001b[39m# u\u001b[39;00m\n\u001b[1;32m--> 181\u001b[0m     u \u001b[39m=\u001b[39m spst\u001b[39m.\u001b[39;49minvgamma(a\u001b[39m=\u001b[39;49malpha\u001b[39m+\u001b[39;49mgam)\u001b[39m.\u001b[39;49mrvs(scale\u001b[39m=\u001b[39;49mbeta\u001b[39m*\u001b[39;49mgam\u001b[39m+\u001b[39;49mlam, size\u001b[39m=\u001b[39;49mnumber_observation)\n\u001b[0;32m    182\u001b[0m     \u001b[39m# gam\u001b[39;00m\n\u001b[0;32m    183\u001b[0m     bb \u001b[39m=\u001b[39m \u001b[39m0.1\u001b[39m\n",
      "\u001b[1;31mTypeError\u001b[0m: rvs() got an unexpected keyword argument 'scale'"
     ]
    }
   ],
   "source": [
    "PG_tirage = GLSP_count_reg(df[\"Mort\"].values, df_covariables.values, prior = \"PG\", mc = 10000, burn = 1500)\n",
    "IG_tirage = GLSP_count_reg(df[\"Mort\"].values, df_covariables.values, prior = \"IG\", mc = 10000, burn = 1500)\n",
    "EH_tirage = GLSP_count_reg(df[\"Mort\"].values, df_covariables.values, prior = \"EH\", mc = 10000, burn = 1500)"
   ]
  },
  {
   "cell_type": "code",
   "execution_count": 56,
   "metadata": {},
   "outputs": [],
   "source": [
    "EH_tirage = GLSP_count_reg(df[\"Mort\"].values, df_covariables.values, prior = \"EH\", mc = 1000, burn = 10)"
   ]
  },
  {
   "cell_type": "code",
   "execution_count": 36,
   "metadata": {},
   "outputs": [],
   "source": [
    "pd.DataFrame(lambda_mean, index=df.index).to_csv('../data/lambda.csv', index=False)"
   ]
  },
  {
   "cell_type": "code",
   "execution_count": null,
   "metadata": {},
   "outputs": [],
   "source": []
  }
 ],
 "metadata": {
  "kernelspec": {
   "display_name": "stat_bayes",
   "language": "python",
   "name": "python3"
  },
  "language_info": {
   "codemirror_mode": {
    "name": "ipython",
    "version": 3
   },
   "file_extension": ".py",
   "mimetype": "text/x-python",
   "name": "python",
   "nbconvert_exporter": "python",
   "pygments_lexer": "ipython3",
   "version": "3.9.15"
  },
  "orig_nbformat": 4,
  "vscode": {
   "interpreter": {
    "hash": "1c0fa9dae83e6693ae24dff334e77340c6092d736065288a11b7e5cac62733c9"
   }
  }
 },
 "nbformat": 4,
 "nbformat_minor": 2
}
